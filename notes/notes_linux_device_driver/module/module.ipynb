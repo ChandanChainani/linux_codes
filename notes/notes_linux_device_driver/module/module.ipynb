{
 "cells": [
  {
   "cell_type": "markdown",
   "metadata": {},
   "source": [
    "# module development"
   ]
  },
  {
   "cell_type": "markdown",
   "metadata": {},
   "source": [
    "## qemu\n",
    "\n",
    "1. create disk img\n",
    "\n",
    "```bash\n",
    "qemu-img create debian.img 10G\n",
    "```\n",
    "\n",
    "2. install debian \n",
    "\n",
    "```bash\n",
    "qemu-system-x86_64 -hda debian.img -boot d -cdrom debian.iso -m 8000 -enable-kvm\n",
    "```\n",
    "\n",
    "3. build kernel img and boot with disk img\n",
    "\n",
    "```bash\n",
    "qemu-system-x86_64 -kernel ~/Documents/kernel/linux/arch/x86_64/boot/bzImage -hda ./debian.img -append \"root=/dev/sda1 rw\" -netdev user,id=user.0 -device e1000,netdev=user.0 -nographic -enable-kvm\n",
    "```\n",
    "\n",
    "qemu use the netcard is `Intel Corporation 82540EM Gigabit Ethernet Controller`. So when build the kernel, you should include its driver. Or the virtual machine can't use network\n",
    "\n",
    "4. module signature\n",
    "\n",
    "```bash\n",
    "./scripts/sign-file sha512 ./certs/signing_key.pem ./certs/signing_key.x509 ~/Downloads/hello.ko\n",
    "```\n"
   ]
  }
 ],
 "metadata": {
  "kernelspec": {
   "display_name": "Python 3.10.8 64-bit",
   "language": "python",
   "name": "python3"
  },
  "language_info": {
   "name": "python",
   "version": "3.10.8"
  },
  "orig_nbformat": 4,
  "vscode": {
   "interpreter": {
    "hash": "e7370f93d1d0cde622a1f8e1c04877d8463912d04d973331ad4851f04de6915a"
   }
  }
 },
 "nbformat": 4,
 "nbformat_minor": 2
}
