{
 "cells": [
  {
   "cell_type": "markdown",
   "metadata": {},
   "source": [
    "# module development"
   ]
  },
  {
   "cell_type": "markdown",
   "metadata": {},
   "source": [
    "## qemu\n",
    "\n",
    "1. create disk img\n",
    "\n",
    "```bash\n",
    "qemu-img create debian.img 10G\n",
    "```\n",
    "\n",
    "2. install debian \n",
    "\n",
    "```bash\n",
    "qemu-system-x86_64 -hda debian.img -boot d -cdrom debian.iso -m 8000 \n",
    "```\n",
    "\n",
    "3. build kernel img and boot with disk img\n",
    "\n",
    "```bash\n",
    "qemu-system-x86_64 -kernel ~/Documents/kernel/linux/arch/x86_64/boot/bzImage -hda ./debian.img -append \"root=/dev/sda1 rw\" -netdev user,id=user.0 -device e1000,netdev=user.0 -nographic \n",
    "```\n",
    "\n",
    "qemu use the netcard is `Intel COrporation 82540EM Gigabit Ethernet Controller`. So when build the kernel, you should include its driver. Or the virtual machine can't use network\n"
   ]
  }
 ],
 "metadata": {
  "language_info": {
   "name": "python"
  },
  "orig_nbformat": 4
 },
 "nbformat": 4,
 "nbformat_minor": 2
}
