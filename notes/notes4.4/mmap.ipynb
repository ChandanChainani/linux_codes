{
 "cells": [
  {
   "cell_type": "markdown",
   "metadata": {},
   "source": [
    "# mmap\n",
    "\n",
    "![mmap03](resources/mmap03.png)\n",
    "![mmap04](resources/mmap04.png)\n",
    "![mmap05](resources/mmap05.png)\n",
    "\n",
    "\n",
    "--------------------------"
   ]
  }
 ],
 "metadata": {
  "language_info": {
   "name": "python"
  },
  "orig_nbformat": 4
 },
 "nbformat": 4,
 "nbformat_minor": 2
}
