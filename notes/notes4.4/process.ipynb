{
 "cells": [
  {
   "cell_type": "markdown",
   "metadata": {},
   "source": [
    "# process\n",
    "\n",
    "\n"
   ]
  },
  {
   "cell_type": "markdown",
   "metadata": {},
   "source": [
    "## process group & session\n",
    "\n",
    "**Process Group** is a collection of related processes which can all be signalled at once.\n",
    "\n",
    "**Session** is a collection of process groups, which are either attached to a single terminal device(known as the controlling terminal) or not attached to any terminal.\n",
    "\n",
    "Sessions are used for job control: one of the process groups in the session is the foreground process group, and can be sent signals by terminal control characters. You can think of a session with a controlling terminal as corresponding to a \"login\" on that terminal. (Daemons normally disassociate themselves from any controlling terminal by creating a new session without one.)\n",
    "\n",
    "e.g. if you run some_app from the shell, the shell creates a new process group for it, and makes that the foreground process group of the session. (some_app might create some child processes; by default they will be part of the same process group.) If you then press ^Z, some_app's process group is signalled to stop it; and the shell's process group is switched to be the foreground process group again. Then e.g.bg %1 would start some_app's process group again, but keep it running in the background.\n",
    "\n",
    "\n",
    "[Linux进程模型--会话和进程组](https://www.jianshu.com/p/d953cac76de9?utm_campaign=maleskine&utm_content=note&utm_medium=seo_notes&utm_source=recommendation)\n",
    "\n",
    "-------------------"
   ]
  }
 ],
 "metadata": {
  "kernelspec": {
   "display_name": "Python 3.10.2 64-bit",
   "language": "python",
   "name": "python3"
  },
  "language_info": {
   "name": "python",
   "version": "3.10.2"
  },
  "orig_nbformat": 4,
  "vscode": {
   "interpreter": {
    "hash": "6d47d1382e92bbaf84c50276baa079056532326c20bdaac4b09430c41eda0c22"
   }
  }
 },
 "nbformat": 4,
 "nbformat_minor": 2
}
