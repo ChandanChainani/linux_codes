{
 "cells": [
  {
   "cell_type": "markdown",
   "metadata": {},
   "source": [
    "# Sequential Lock\n",
    "\n",
    "Previous `readers-writer` lock may lead to `writer starvation` problem. A writer process can't acquire a lock as long as at least one reader process which acquired a lock holds it. So, in the situation when contention is high, it will lead to situation when a writer process which wants to acquire a lock will wait for it for a long time.\n",
    "\n",
    "对于 **写饥饿** 问题，seqlock的解决办法是有一个sequence number。每次写的时候都增加sequence number，其实也就类似于MVCC中的版本号。对于 **读锁** 有两种，第一种是block writer，这种和之前一样。\n",
    "\n",
    "另一种是不会 block writer，而是在进入critical section之前，先读取sequence number，然后进入critical section，读取完成后，再读取一遍sequence number，跟之前读取的数值比较，如果一样，说明读取中间没有writer操作，就返回。否则继续读取。\n",
    "\n",
    "--------------------------------------------\n",
    "\n",
    "```c\n",
    "/*\n",
    " * Reader/writer consistent mechanism without starving writers. This type of\n",
    " * lock for data where the reader wants a consistent set of information\n",
    " * and is willing to retry if the information changes. There are two types\n",
    " * of readers:\n",
    " * 1. Sequence readers which never block a writer but they may have to retry\n",
    " *    if a writer is in progress by detecting change in sequence number.\n",
    " *    Writers do not wait for a sequence reader.\n",
    " * 2. Locking readers which will wait if a writer or another locking reader\n",
    " *    is in progress. A locking reader in progress will also block a writer\n",
    " *    from going forward. Unlike the regular rwlock, the read lock here is\n",
    " *    exclusive so that only one locking reader can get it.\n",
    " *\n",
    " * This is not as cache friendly as brlock. Also, this may not work well\n",
    " * for data that contains pointers, because any writer could\n",
    " * invalidate a pointer that a reader was following.\n",
    " *\n",
    " * Expected non-blocking reader usage:\n",
    " * \tdo {\n",
    " *\t    seq = read_seqbegin(&foo);\n",
    " * \t...\n",
    " *      } while (read_seqretry(&foo, seq));\n",
    " *\n",
    " *\n",
    " * On non-SMP the spin locks disappear but the writer still needs\n",
    " * to increment the sequence variables because an interrupt routine could\n",
    " * change the state of the data.\n",
    " *\n",
    " * Based on x86_64 vsyscall gettimeofday \n",
    " * by Keith Owens and Andrea Arcangeli\n",
    " */\n",
    "```\n",
    "\n",
    "---------------------------\n",
    "\n",
    "\n",
    "```c\n",
    "/*\n",
    " * Version using sequence counter only.\n",
    " * This can be used when code has its own mutex protecting the\n",
    " * updating starting before the write_seqcountbeqin() and ending\n",
    " * after the write_seqcount_end().\n",
    " */\n",
    "typedef struct seqcount {\n",
    "\tunsigned sequence;\n",
    "} seqcount_t;\n",
    "\n",
    "\n",
    "typedef struct {\n",
    "\tstruct seqcount seqcount;\n",
    "\tspinlock_t lock;\n",
    "} seqlock_t;\n",
    "\n",
    "```\n",
    "\n",
    "1. \n",
    "\n",
    "\n",
    "--------------------------"
   ]
  }
 ],
 "metadata": {
  "kernelspec": {
   "display_name": "Python 3.10.2 64-bit",
   "language": "python",
   "name": "python3"
  },
  "language_info": {
   "name": "python",
   "version": "3.10.2"
  },
  "orig_nbformat": 4,
  "vscode": {
   "interpreter": {
    "hash": "6d47d1382e92bbaf84c50276baa079056532326c20bdaac4b09430c41eda0c22"
   }
  }
 },
 "nbformat": 4,
 "nbformat_minor": 2
}
