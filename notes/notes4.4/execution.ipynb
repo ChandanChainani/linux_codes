{
 "cells": [
  {
   "cell_type": "markdown",
   "metadata": {},
   "source": [
    "# Program Execution"
   ]
  },
  {
   "cell_type": "markdown",
   "metadata": {},
   "source": [
    "![](resources/stack01.png)\n",
    "![](resources/segment01.png)\n",
    "![](resources/layout01.png)\n",
    "![](resources/layout02.png)\n",
    "![](resources/layout03.png)\n",
    "![](resources/layout04.png)\n",
    "\n",
    "------------------\n",
    "## tracing\n",
    "\n",
    "![](resources/tracing01.png)\n",
    "![](resources/tracing02.png)\n",
    "![](resources/tracing03.png)\n",
    "\n",
    "-----------------------\n",
    "\n",
    "## ELF\n",
    "\n",
    "![](resources/elf01.png)\n",
    "![](resources/elf02.png)\n",
    "\n",
    "--------------------"
   ]
  }
 ],
 "metadata": {
  "language_info": {
   "name": "python"
  },
  "orig_nbformat": 4
 },
 "nbformat": 4,
 "nbformat_minor": 2
}
