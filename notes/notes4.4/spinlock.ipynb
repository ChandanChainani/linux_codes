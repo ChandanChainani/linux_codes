{
 "cells": [
  {
   "cell_type": "markdown",
   "metadata": {},
   "source": [
    "# Spin Lock"
   ]
  },
  {
   "cell_type": "markdown",
   "metadata": {},
   "source": [
    "## Queued Spin Lock\n",
    "\n",
    "简单的spin lock实现以及存在的问题\n",
    "\n",
    "```c\n",
    "int lock(lock)\n",
    "{\n",
    "    while (test_and_set(lock) == 1)\n",
    "        ;\n",
    "    return 0;\n",
    "}\n",
    "\n",
    "int unlock(lock)\n",
    "{\n",
    "    lock=0;\n",
    "\n",
    "    return lock;\n",
    "}\n",
    "```\n",
    "\n",
    "存在的问题\n",
    "\n",
    "1. 这种spin lock并不是先到先得的。多个线程在一个变量上spin，谁先获取具有随机性。并不是先到先得\n",
    "\n",
    "2. 由于多个CPU线程均在同一个共享变量lock上自旋，而申请和释放锁的时候必须对lock进行修改，这将导致所有参与排队自旋锁操作的处理器的缓存变得无效。如果排队自旋锁竞争比较激烈的话，频繁的缓存同步操作会导致繁重的系统总线和内存的流量，从而大大降低了系统整体的性能。\n",
    "\n",
    "-------------------------"
   ]
  }
 ],
 "metadata": {
  "language_info": {
   "name": "python"
  },
  "orig_nbformat": 4
 },
 "nbformat": 4,
 "nbformat_minor": 2
}
