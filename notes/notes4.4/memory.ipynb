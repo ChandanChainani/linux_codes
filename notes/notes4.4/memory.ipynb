{
 "cells": [
  {
   "cell_type": "markdown",
   "metadata": {},
   "source": [
    "# Memory"
   ]
  },
  {
   "cell_type": "markdown",
   "metadata": {},
   "source": [
    "## memory zone\n",
    "\n",
    "![zone01](resources/zone01.png)[ref](https://stackoverflow.com/questions/18061218/how-linux-kernel-decide-to-which-memory-zone-to-use)\n",
    "\n",
    "![zone02](resources/zone02.png)\n",
    "![zone03](resources/zone03.png)\n",
    "\n",
    "[x64 mem layout](https://unix.stackexchange.com/questions/509607/how-a-64-bit-process-virtual-address-space-is-divided-in-linux)\n",
    "\n",
    "[canonical address](https://en.wikipedia.org/wiki/X86-64#Virtual_address_space_details)"
   ]
  },
  {
   "cell_type": "markdown",
   "metadata": {},
   "source": [
    "## linux2.6/include/linux/mm.h\n",
    "\n",
    "```c\n",
    "/*\n",
    " * Each physical page in the system has a struct page associated with\n",
    " * it to keep track of whatever it is we are using the page for at the\n",
    " * moment. Note that we have no way to track which tasks are using\n",
    " * a page.\n",
    " *\n",
    " * Try to keep the most commonly accessed fields in single cache lines\n",
    " * here (16 bytes or greater).  This ordering should be particularly\n",
    " * beneficial on 32-bit processors.\n",
    " *\n",
    " * The first line is data used in page cache lookup, the second line\n",
    " * is used for linear searches (eg. clock algorithm scans). \n",
    " *\n",
    " * TODO: make this structure smaller, it could be as small as 32 bytes.\n",
    " */\n",
    "struct page {\n",
    "\tunsigned long flags;\t\t/* atomic flags, some possibly\n",
    "\t\t\t\t\t   updated asynchronously */\n",
    "\tatomic_t count;\t\t\t/* Usage count, see below. */\n",
    "\tstruct list_head list;\t\t/* ->mapping has some page lists. */\n",
    "\tstruct address_space *mapping;\t/* The inode (or ...) we belong to. */\n",
    "\tunsigned long index;\t\t/* Our offset within mapping. */\n",
    "\tstruct list_head lru;\t\t/* Pageout list, eg. active_list;\n",
    "\t\t\t\t\t   protected by zone->lru_lock !! */\n",
    "\tunion {\n",
    "\t\tstruct pte_chain *chain;/* Reverse pte mapping pointer.\n",
    "\t\t\t\t\t * protected by PG_chainlock */\n",
    "\t\tpte_addr_t direct;\n",
    "\t} pte;\n",
    "\tunsigned long private;\t\t/* mapping-private opaque data */\n",
    "\n",
    "\t/*\n",
    "\t * On machines where all RAM is mapped into kernel address space,\n",
    "\t * we can simply calculate the virtual address. On machines with\n",
    "\t * highmem some memory is mapped into kernel virtual memory\n",
    "\t * dynamically, so we need a place to store that address.\n",
    "\t * Note that this field could be 16 bits on x86 ... ;)\n",
    "\t *\n",
    "\t * Architectures with slow multiplication can define\n",
    "\t * WANT_PAGE_VIRTUAL in asm/page.h\n",
    "\t */\n",
    "#if defined(WANT_PAGE_VIRTUAL)\n",
    "\tvoid *virtual;\t\t\t/* Kernel virtual address (NULL if\n",
    "\t\t\t\t\t   not kmapped, ie. highmem) */\n",
    "#endif /* WANT_PAGE_VIRTUAL */\n",
    "};\n",
    "```"
   ]
  }
 ],
 "metadata": {
  "language_info": {
   "name": "python"
  },
  "orig_nbformat": 4
 },
 "nbformat": 4,
 "nbformat_minor": 2
}
