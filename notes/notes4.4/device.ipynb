{
 "cells": [
  {
   "cell_type": "markdown",
   "metadata": {},
   "source": [
    "# device drivers"
   ]
  },
  {
   "cell_type": "markdown",
   "metadata": {},
   "source": [
    "## sysfs\n",
    "\n",
    "![sysfs01](resources/sysfs01.png)\n",
    "\n",
    "--------------------------------\n"
   ]
  },
  {
   "cell_type": "markdown",
   "metadata": {},
   "source": [
    "## kset\n",
    "\n",
    "![kset01](resources/kset01.png)\n",
    "![kset02](resources/kset02.png)"
   ]
  }
 ],
 "metadata": {
  "language_info": {
   "name": "python"
  },
  "orig_nbformat": 4
 },
 "nbformat": 4,
 "nbformat_minor": 2
}
