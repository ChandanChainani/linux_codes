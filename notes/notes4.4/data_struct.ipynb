{
 "cells": [
  {
   "cell_type": "markdown",
   "metadata": {},
   "source": [
    "# Data Struct"
   ]
  },
  {
   "cell_type": "markdown",
   "metadata": {},
   "source": [
    "## Double List (include/linux/list.h)\n",
    "\n",
    "```c\n",
    "struct list_head {\n",
    "\tstruct list_head *next, *prev;\n",
    "};\n",
    "```\n",
    "\n",
    "1. The implementation is very simple. Put the `list_head` in your struct like\n",
    "\n",
    "```c\n",
    "struct semaphore {\n",
    "\traw_spinlock_t\t\tlock;\n",
    "\tunsigned int\t\tcount;\n",
    "\tstruct list_head\twait_list;\n",
    "};\n",
    "```\n",
    "\n",
    "and use `container_of` macro to get the container pointer. Very interesting.\n",
    "\n",
    "```c\n",
    "/**\n",
    " * list_entry - get the struct for this entry\n",
    " * @ptr:\tthe &struct list_head pointer.\n",
    " * @type:\tthe type of the struct this is embedded in.\n",
    " * @member:\tthe name of the list_head within the struct.\n",
    " */\n",
    "#define list_entry(ptr, type, member) \\\n",
    "\tcontainer_of(ptr, type, member)\n",
    "```\n",
    "\n",
    "\n",
    "2. some macros\n",
    "\n",
    "```c\n",
    "/**\n",
    " * list_for_each\t-\titerate over a list\n",
    " * @pos:\tthe &struct list_head to use as a loop cursor.\n",
    " * @head:\tthe head for your list.\n",
    " */\n",
    "#define list_for_each(pos, head) \\\n",
    "\tfor (pos = (head)->next; pos != (head); pos = pos->next)\n",
    "```\n",
    "\n",
    "------------------------\n",
    "\n"
   ]
  },
  {
   "cell_type": "markdown",
   "metadata": {},
   "source": [
    "## "
   ]
  }
 ],
 "metadata": {
  "kernelspec": {
   "display_name": "Python 3.10.2 64-bit",
   "language": "python",
   "name": "python3"
  },
  "language_info": {
   "name": "python",
   "version": "3.10.2"
  },
  "orig_nbformat": 4,
  "vscode": {
   "interpreter": {
    "hash": "6d47d1382e92bbaf84c50276baa079056532326c20bdaac4b09430c41eda0c22"
   }
  }
 },
 "nbformat": 4,
 "nbformat_minor": 2
}
