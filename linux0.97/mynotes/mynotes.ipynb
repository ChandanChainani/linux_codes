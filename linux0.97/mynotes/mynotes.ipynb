{
 "cells": [
  {
   "cell_type": "markdown",
   "metadata": {},
   "source": [
    "# my notes on reading linux kernel 0.97 codes"
   ]
  },
  {
   "cell_type": "markdown",
   "metadata": {},
   "source": [
    "## net/unix.c\n",
    "\n",
    "```c\n",
    "/*\n",
    " * buffer size must be power of 2. buffer mgmt inspired by pipe code.\n",
    " * note that buffer contents can wraparound, and we can write one byte less\n",
    " * than full size to discern full vs empty.\n",
    " */\n",
    "#define BUF_SIZE PAGE_SIZE\n",
    "#define UN_BUF_AVAIL(UPD) (((UPD)->bp_head - (UPD)->bp_tail) & (BUF_SIZE-1))\n",
    "#define UN_BUF_SPACE(UPD) ((BUF_SIZE-1) - UN_BUF_AVAIL(UPD))\n",
    "```\n",
    "\n",
    "This is a very classic buffer implement.\n",
    "\n",
    "* if `bp_head == bp_tail`, the buffer is empty\n",
    "\n",
    "* `&(BUF_SIZE-1)` is equal to `% BUF_SIZE` because of the BUF_SIZE is power of 2.\n",
    "\n",
    "* When writing to buffer, the `bp_head` move ahead, when reading from the buffer, the `bp_tail` move ahead.\n",
    "\n",
    "* When `bp_head` come across the upper boundary(BUF_SIZE), it wraparounds and starts from the beginning: `pupd->bp_head = (pupd->bp_head + cando) & (BUF_SIZE-1);` In this case, the `bp_head` is smaller than the `bp_tail` and `(bp_head - bp_tail) & (BUF_SIZE-1)` is equal to `bp_head + BUF_SIZE - bp_tail`, which is actually the available size. \n",
    "\n",
    "NICE IMPLEMENTATION !"
   ]
  }
 ],
 "metadata": {
  "language_info": {
   "name": "python"
  },
  "orig_nbformat": 4
 },
 "nbformat": 4,
 "nbformat_minor": 2
}
