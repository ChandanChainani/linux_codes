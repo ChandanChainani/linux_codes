{
 "cells": [
  {
   "cell_type": "markdown",
   "metadata": {},
   "source": [
    "# linux 4.4 TCP"
   ]
  },
  {
   "cell_type": "markdown",
   "metadata": {},
   "source": [
    "![01](resources/01.png)\n",
    "\n",
    "Nice method !\n",
    "\n",
    "```c\n",
    "int bgn[0];\n",
    "....\n",
    "int end[0];\n",
    "```\n",
    "\n",
    "(end - bgn) is the length of the memory."
   ]
  }
 ],
 "metadata": {
  "language_info": {
   "name": "python"
  },
  "orig_nbformat": 4
 },
 "nbformat": 4,
 "nbformat_minor": 2
}
