{
 "cells": [
  {
   "cell_type": "markdown",
   "metadata": {},
   "source": [
    "# linux 4.4 TCP"
   ]
  },
  {
   "cell_type": "markdown",
   "metadata": {},
   "source": [
    "## SYN Flood\n",
    "\n",
    "In a SYN flood attack, the attacker sends repeated SYN packets to every port on the targeted server, \n",
    "**often using a fake IP address**. The server, unaware of the attack, \n",
    "receives multiple, apparently legitimate requests to establish communication. \n",
    "It responds to each attempt with a SYN-ACK packet from each open port.\n",
    "\n",
    "During this time, the server cannot close down the connection by sending an RST packet, and the connection stays open. Before the connection can time out, another SYN packet will arrive. This leaves an increasingly large number of connections half-open – and indeed SYN flood attacks are also referred to as “half-open” attacks. Eventually, as the server’s connection overflow tables fill, service to legitimate clients will be denied, and the server may even malfunction or crash\n",
    "\n",
    "Methods of mitigation\n",
    "While modern operating systems are better equipped to manage resources, which makes it more difficult to overflow connection tables, servers are still vulnerable to SYN flood attacks.\n",
    "\n",
    "There are a number of common techniques to mitigate SYN flood attacks, including:\n",
    "\n",
    "Micro blocks—administrators can allocate a micro-record (as few as 16 bytes) in the server memory for each incoming SYN request instead of a complete connection object.\n",
    "\n",
    "SYN cookies—using cryptographic hashing, the server sends its SYN-ACK response with a sequence number (seqno) that is constructed from the client IP address, port number, and possibly other unique identifying information. When the client responds, this hash is included in the ACK packet. The server verifies the ACK, and only then allocates memory for the connection.\n",
    "\n",
    "RST cookies—for the first request from a given client, the server intentionally sends an invalid SYN-ACK. This should result in the client generating an RST packet, which tells the server something is wrong. If this is received, the server knows the request is legitimate, logs the client, and accepts subsequent incoming connections from it.\n",
    "\n",
    "Stack tweaking—administrators can tweak TCP stacks to mitigate the effect of SYN floods. This can either involve reducing the timeout until a stack frees memory allocated to a connection, or selectively dropping incoming connections.\n",
    "\n",
    "Obviously, all of the above mentioned methods rely on the target network’s ability to handle large-scale volumetric DDoS attacks, with traffic volumes measured in tens of Gigabits (and even hundreds of Gigabits) per second."
   ]
  },
  {
   "cell_type": "markdown",
   "metadata": {},
   "source": [
    "![01](resources/01.png)\n",
    "\n",
    "Nice method !\n",
    "\n",
    "```c\n",
    "int bgn[0];\n",
    "....\n",
    "int end[0];\n",
    "```\n",
    "\n",
    "(end - bgn) is the length of the memory."
   ]
  },
  {
   "cell_type": "markdown",
   "metadata": {},
   "source": [
    "```c\n",
    "/*\n",
    " * max without conditionals. Idea adapted from:\n",
    " * http://graphics.stanford.edu/~seander/bithacks.html#IntegerMinOrMax\n",
    " */\n",
    "#define alt_max_short(a, b)\t((a) ^ (((a) ^ (b)) & -(-((a) < (b)))))\n",
    "```\n",
    "\n",
    "max without branching !"
   ]
  }
 ],
 "metadata": {
  "kernelspec": {
   "display_name": "Python 3.10.2 64-bit",
   "language": "python",
   "name": "python3"
  },
  "language_info": {
   "name": "python",
   "version": "3.10.2"
  },
  "orig_nbformat": 4,
  "vscode": {
   "interpreter": {
    "hash": "aee8b7b246df8f9039afb4144a1f6fd8d2ca17a180786b69acc140d282b71a49"
   }
  }
 },
 "nbformat": 4,
 "nbformat_minor": 2
}
