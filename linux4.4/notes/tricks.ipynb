{
 "cells": [
  {
   "cell_type": "markdown",
   "metadata": {},
   "source": [
    "# Tricks\n",
    "\n",
    "some coding tricks in kernel"
   ]
  },
  {
   "cell_type": "markdown",
   "metadata": {},
   "source": [
    "# include/linux/compiler.h\n",
    "\n",
    "```c\n",
    "/*\n",
    " * Sparse complains of variable sized arrays due to the temporary variable in\n",
    " * __compiletime_assert. Unfortunately we can't just expand it out to make\n",
    " * sparse see a constant array size without breaking compiletime_assert on old\n",
    " * versions of GCC (e.g. 4.2.4), so hide the array from sparse altogether.\n",
    " */\n",
    "# ifndef __CHECKER__\n",
    "#  define __compiletime_error_fallback(condition) \\\n",
    "\tdo { ((void)sizeof(char[1 - 2 * condition])); } while (0)\n",
    "# endif\n",
    "#endif\n",
    "#ifndef __compiletime_error_fallback\n",
    "# define __compiletime_error_fallback(condition) do { } while (0)\n",
    "#endif\n",
    "\n",
    "#define __compiletime_assert(condition, msg, prefix, suffix)\t\t\\\n",
    "\tdo {\t\t\t\t\t\t\t\t\\\n",
    "\t\tbool __cond = !(condition);\t\t\t\t\\\n",
    "\t\textern void prefix ## suffix(void) __compiletime_error(msg); \\\n",
    "\t\tif (__cond)\t\t\t\t\t\t\\\n",
    "\t\t\tprefix ## suffix();\t\t\t\t\\\n",
    "\t\t__compiletime_error_fallback(__cond);\t\t\t\\\n",
    "\t} while (0)\n",
    "\n",
    "#define _compiletime_assert(condition, msg, prefix, suffix) \\\n",
    "\t__compiletime_assert(condition, msg, prefix, suffix)\n",
    "\n",
    "```\n",
    "\n",
    "1. 编译期assert，就是判断conndition，如果不为真，就定义了一个**不存在**的外部函数，然后调用，编译就会出错，函数的参数就是msg内容。\n",
    "\n",
    "------------------"
   ]
  }
 ],
 "metadata": {
  "kernelspec": {
   "display_name": "Python 3.10.2 64-bit",
   "language": "python",
   "name": "python3"
  },
  "language_info": {
   "name": "python",
   "version": "3.10.2"
  },
  "orig_nbformat": 4,
  "vscode": {
   "interpreter": {
    "hash": "aee8b7b246df8f9039afb4144a1f6fd8d2ca17a180786b69acc140d282b71a49"
   }
  }
 },
 "nbformat": 4,
 "nbformat_minor": 2
}
