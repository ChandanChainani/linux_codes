{
 "cells": [
  {
   "cell_type": "markdown",
   "metadata": {},
   "source": [
    "# Atomic"
   ]
  },
  {
   "cell_type": "markdown",
   "metadata": {},
   "source": [
    "## arch/x86/include/asm/barrier.h\n",
    "\n",
    "```c\n",
    "/*\n",
    " * Some non-Intel clones support out of order store. wmb() ceases to be a\n",
    " * nop for these.\n",
    " */\n",
    "#define mb() alternative(\"lock; addl $0,0(%%esp)\", \"mfence\", X86_FEATURE_XMM2)\n",
    "#define rmb() alternative(\"lock; addl $0,0(%%esp)\", \"lfence\", X86_FEATURE_XMM2)\n",
    "#define wmb() alternative(\"lock; addl $0,0(%%esp)\", \"sfence\", X86_FEATURE_XMM)\n",
    "#else\n",
    "#define mb() \tasm volatile(\"mfence\":::\"memory\")\n",
    "#define rmb()\tasm volatile(\"lfence\":::\"memory\")\n",
    "#define wmb()\tasm volatile(\"sfence\" ::: \"memory\")\n",
    "#endif\n",
    "```\n",
    "\n",
    "1. If cpu doesn't support `mfence,lfence,sfence`, use `lock` instruction. The LOCK prefix ensures that the CPU has exclusive ownership of the appropriate cache line for the duration of the operation, and provides certain additional ordering guarantees. This may be achieved by asserting a bus lock, but the CPU will avoid this where possible. \n",
    "\n",
    "2. [Lock & memory order](https://stackoverflow.com/questions/60332591/why-is-lock-a-full-barrier-on-x86)\n",
    "\n",
    "3. [缓存一致性MESI](https://cloud.tencent.com/developer/article/1548942)"
   ]
  }
 ],
 "metadata": {
  "kernelspec": {
   "display_name": "Python 3.10.2 64-bit",
   "language": "python",
   "name": "python3"
  },
  "language_info": {
   "name": "python",
   "version": "3.10.2"
  },
  "orig_nbformat": 4,
  "vscode": {
   "interpreter": {
    "hash": "aee8b7b246df8f9039afb4144a1f6fd8d2ca17a180786b69acc140d282b71a49"
   }
  }
 },
 "nbformat": 4,
 "nbformat_minor": 2
}
